{
  "nbformat": 4,
  "nbformat_minor": 0,
  "metadata": {
    "colab": {
      "provenance": [],
      "collapsed_sections": [],
      "authorship_tag": "ABX9TyMbOAn6aIJAO8Aj3DZ+6oxD",
      "include_colab_link": true
    },
    "kernelspec": {
      "name": "python3",
      "display_name": "Python 3"
    },
    "language_info": {
      "name": "python"
    }
  },
  "cells": [
    {
      "cell_type": "markdown",
      "metadata": {
        "id": "view-in-github",
        "colab_type": "text"
      },
      "source": [
        "<a href=\"https://colab.research.google.com/github/tanvinaminul/ML-DL-IITKGP/blob/master/Edit_dataset_in_Lab3.ipynb\" target=\"_parent\"><img src=\"https://colab.research.google.com/assets/colab-badge.svg\" alt=\"Open In Colab\"/></a>"
      ]
    },
    {
      "cell_type": "code",
      "execution_count": 1,
      "metadata": {
        "colab": {
          "base_uri": "https://localhost:8080/",
          "height": 265
        },
        "id": "niZMZw9FDQHr",
        "outputId": "d9266268-f080-4aee-a022-b73bf60b7772"
      },
      "outputs": [
        {
          "output_type": "display_data",
          "data": {
            "text/plain": [
              "<Figure size 432x288 with 1 Axes>"
            ],
            "image/png": "[encoded data removed]"
          },
          "metadata": {
            "needs_background": "light"
          }
        }
      ],
      "source": [
        "import pandas as pd\n",
        "import matplotlib.pyplot as plt\n",
        "df = pd.read_csv(\"./dataset_1.csv\")\n",
        "df.loc[len(df.index)] = ['1.6', 103525, 0]\n",
        "df.loc[len(df.index)] = ['2.5', 117731, 0]\n",
        "df.loc[len(df.index)] = ['2.2', 129891, 1]\n",
        "df.loc[len(df.index)] = ['3.9', 116642, 0]\n",
        "df.loc[len(df.index)] = ['4.1', 90150, 1]\n",
        "plt.scatter(df['x'], df['y'])\n",
        "plt.scatter(df['x'].where(df['label']==0), df['y'].where(df['label']==0), color=\"red\")\n",
        "plt.scatter(df['x'].where(df['label']==1), df['y'].where(df['label']==1), color=\"green\")\n",
        "plt.show()"
      ]
    },
    {
      "cell_type": "code",
      "source": [
        "X= df[['x','y']].to_numpy()\n",
        "Y= df['label'].to_numpy()"
      ],
      "metadata": {
        "id": "J53MgxQBFceg"
      },
      "execution_count": 2,
      "outputs": []
    },
    {
      "cell_type": "code",
      "source": [
        "from sklearn.model_selection import train_test_split\n",
        "X_train, x_test, Y_train, y_test= train_test_split(X, Y, test_size=0.3)"
      ],
      "metadata": {
        "id": "BIx7GAd5Fwvr"
      },
      "execution_count": 3,
      "outputs": []
    },
    {
      "cell_type": "code",
      "source": [
        "from sklearn.tree import DecisionTreeClassifier\n",
        "classfir= DecisionTreeClassifier()\n",
        "classfir.fit(X_train, Y_train)\n"
      ],
      "metadata": {
        "colab": {
          "base_uri": "https://localhost:8080/"
        },
        "id": "uOR8ugmcIKMr",
        "outputId": "382e5ca2-9daf-47c5-8b3c-9bb6779cc9cc"
      },
      "execution_count": 4,
      "outputs": [
        {
          "output_type": "execute_result",
          "data": {
            "text/plain": [
              "DecisionTreeClassifier()"
            ]
          },
          "metadata": {},
          "execution_count": 4
        }
      ]
    },
    {
      "cell_type": "code",
      "source": [
        "y_pred= classfir.predict(x_test)\n",
        "print(y_pred)\n",
        "print(y_test)"
      ],
      "metadata": {
        "colab": {
          "base_uri": "https://localhost:8080/"
        },
        "id": "2y3bQMisJASd",
        "outputId": "ee78c4dd-f4dc-4fe5-be35-caf9d0ef222a"
      },
      "execution_count": 5,
      "outputs": [
        {
          "output_type": "stream",
          "name": "stdout",
          "text": [
            "[1 1 0 0 1 0 1 0 0 0 0]\n",
            "[0 1 0 0 1 0 1 0 0 0 0]\n"
          ]
        }
      ]
    },
    {
      "cell_type": "code",
      "source": [
        "from sklearn.metrics import classification_report\n",
        "print(classification_report(y_pred, y_test))"
      ],
      "metadata": {
        "colab": {
          "base_uri": "https://localhost:8080/"
        },
        "id": "PetE9J6CJa_G",
        "outputId": "03cb8469-bb8c-4bda-fcd7-2212ca13853b"
      },
      "execution_count": 6,
      "outputs": [
        {
          "output_type": "stream",
          "name": "stdout",
          "text": [
            "              precision    recall  f1-score   support\n",
            "\n",
            "           0       0.88      1.00      0.93         7\n",
            "           1       1.00      0.75      0.86         4\n",
            "\n",
            "    accuracy                           0.91        11\n",
            "   macro avg       0.94      0.88      0.90        11\n",
            "weighted avg       0.92      0.91      0.91        11\n",
            "\n"
          ]
        }
      ]
    },
    {
      "cell_type": "code",
      "source": [
        "from sklearn import tree\n",
        "tree.plot_tree(classfir)"
      ],
      "metadata": {
        "id": "BLYSL9c9Nr8J",
        "outputId": "9cd317af-37f3-44e3-8159-33b0b6f895ec",
        "colab": {
          "base_uri": "https://localhost:8080/",
          "height": 407
        }
      },
      "execution_count": 7,
      "outputs": [
        {
          "output_type": "execute_result",
          "data": {
            "text/plain": [
              "[Text(0.6666666666666666, 0.9, 'X[0] <= 5.8\\ngini = 0.486\\nsamples = 24\\nvalue = [10, 14]'),\n",
              " Text(0.5, 0.7, 'X[1] <= 123811.0\\ngini = 0.278\\nsamples = 12\\nvalue = [10, 2]'),\n",
              " Text(0.3333333333333333, 0.5, 'X[1] <= 77297.5\\ngini = 0.165\\nsamples = 11\\nvalue = [10, 1]'),\n",
              " Text(0.16666666666666666, 0.3, 'gini = 0.0\\nsamples = 8\\nvalue = [8, 0]'),\n",
              " Text(0.5, 0.3, 'X[0] <= 3.3\\ngini = 0.444\\nsamples = 3\\nvalue = [2, 1]'),\n",
              " Text(0.3333333333333333, 0.1, 'gini = 0.0\\nsamples = 2\\nvalue = [2, 0]'),\n",
              " Text(0.6666666666666666, 0.1, 'gini = 0.0\\nsamples = 1\\nvalue = [0, 1]'),\n",
              " Text(0.6666666666666666, 0.5, 'gini = 0.0\\nsamples = 1\\nvalue = [0, 1]'),\n",
              " Text(0.8333333333333334, 0.7, 'gini = 0.0\\nsamples = 12\\nvalue = [0, 12]')]"
            ]
          },
          "metadata": {},
          "execution_count": 7
        },
        {
          "output_type": "display_data",
          "data": {
            "text/plain": [
              "<Figure size 432x288 with 1 Axes>"
            ],
            "image/png": "[encoded data removed]"
          },
          "metadata": {
            "needs_background": "light"
          }
        }
      ]
    }
  ]
}