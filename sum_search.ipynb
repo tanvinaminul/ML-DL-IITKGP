{
  "nbformat": 4,
  "nbformat_minor": 0,
  "metadata": {
    "colab": {
      "provenance": [],
      "collapsed_sections": [],
      "authorship_tag": "ABX9TyObz0vkRCbAsJ8xEpODys9C",
      "include_colab_link": true
    },
    "kernelspec": {
      "name": "python3",
      "display_name": "Python 3"
    },
    "language_info": {
      "name": "python"
    }
  },
  "cells": [
    {
      "cell_type": "markdown",
      "metadata": {
        "id": "view-in-github",
        "colab_type": "text"
      },
      "source": [
        "<a href=\"https://colab.research.google.com/github/tanvinaminul/ML-DL-IITKGP/blob/master/sum_search.ipynb\" target=\"_parent\"><img src=\"https://colab.research.google.com/assets/colab-badge.svg\" alt=\"Open In Colab\"/></a>"
      ]
    },
    {
      "cell_type": "code",
      "source": [
        "list1=[]\n",
        "n = int(input(\"Enter number of elements : \"))\n",
        "sumToSearch = int(input(\"Enter search value : \"))\n",
        "\n",
        "for i in range(0, n):\n",
        "    element = int(input())\n",
        "    list1.append(element)\n",
        "\n",
        "for i in range(0,n-1):\n",
        "  sum= list1[i]+list1[i+1]\n",
        "  \n",
        "  if sum==sumToSearch:\n",
        "    print(\"Sum of\",list1[i], \"and\", list1[i+1], 'is', sum)\n",
        "    continue"
      ],
      "metadata": {
        "colab": {
          "base_uri": "https://localhost:8080/"
        },
        "id": "HjgS-GgmRO6S",
        "outputId": "fe55aaf6-ce84-4264-9c94-70cde98e64e3"
      },
      "execution_count": 10,
      "outputs": [
        {
          "output_type": "stream",
          "name": "stdout",
          "text": [
            "Enter number of elements : 5\n",
            "Enter search value : 45\n",
            "1\n",
            "2\n",
            "3\n",
            "40\n",
            "5\n",
            "Sum of 40 and 5 is 45\n"
          ]
        }
      ]
    },
    {
      "cell_type": "code",
      "source": [],
      "metadata": {
        "id": "cd0JRVM_YUUT"
      },
      "execution_count": null,
      "outputs": []
    }
  ]
}