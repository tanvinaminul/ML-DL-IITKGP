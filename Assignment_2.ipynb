{
  "nbformat": 4,
  "nbformat_minor": 0,
  "metadata": {
    "colab": {
      "provenance": [],
      "authorship_tag": "ABX9TyM1dgHFeAdX4x0GmdlWH/n1",
      "include_colab_link": true
    },
    "kernelspec": {
      "name": "python3",
      "display_name": "Python 3"
    },
    "language_info": {
      "name": "python"
    }
  },
  "cells": [
    {
      "cell_type": "markdown",
      "metadata": {
        "id": "view-in-github",
        "colab_type": "text"
      },
      "source": [
        "<a href=\"https://colab.research.google.com/github/tanvinaminul/ML-DL-IITKGP/blob/master/Assignment_2.ipynb\" target=\"_parent\"><img src=\"https://colab.research.google.com/assets/colab-badge.svg\" alt=\"Open In Colab\"/></a>"
      ]
    },
    {
      "cell_type": "code",
      "execution_count": null,
      "metadata": {
        "id": "FAMynO3JVz8d"
      },
      "outputs": [],
      "source": []
    },
    {
      "cell_type": "markdown",
      "source": [
        "# Create a 2-D numpy array with following entries, and print the values. "
      ],
      "metadata": {
        "id": "hYKaPMsjV3ki"
      }
    },
    {
      "cell_type": "code",
      "source": [
        "import numpy as np\n",
        "import matplotlib.pyplot as plt\n",
        "\n",
        "a = np.array([[1, 4, 7], [2, 6, 12], [3, 8, 17]])\n",
        "np.savetxt(\"dummy2Darray.txt\", a, newline=\" \")\n",
        "array2= np.loadtxt(\"dummy2Darray.txt\")\n",
        "array2d= np.reshape(array2, (-1,3))\n",
        "\n",
        "display(array2)\n",
        "a[1]= 2*a[1]\n",
        "display(a)\n",
        "x= a[0]\n",
        "display(x)\n",
        "y= a[1]\n",
        "display(y)\n",
        "plt.plot(x, y)\n",
        "plt.show()\n",
        "\n",
        "#b= [1,4,7,2,6,12,3,8,17]\n",
        "#array_b= np.array(b) \n",
        "#array_b"
      ],
      "metadata": {
        "colab": {
          "base_uri": "https://localhost:8080/",
          "height": 375
        },
        "id": "OFDp4WOLV865",
        "outputId": "b3cffb9b-70fd-4cd5-c9a6-425016bcab8b"
      },
      "execution_count": null,
      "outputs": [
        {
          "output_type": "display_data",
          "data": {
            "text/plain": [
              "array([ 1.,  4.,  7.,  2.,  6., 12.,  3.,  8., 17.])"
            ]
          },
          "metadata": {}
        },
        {
          "output_type": "display_data",
          "data": {
            "text/plain": [
              "array([[ 1,  4,  7],\n",
              "       [ 4, 12, 24],\n",
              "       [ 3,  8, 17]])"
            ]
          },
          "metadata": {}
        },
        {
          "output_type": "display_data",
          "data": {
            "text/plain": [
              "array([1, 4, 7])"
            ]
          },
          "metadata": {}
        },
        {
          "output_type": "display_data",
          "data": {
            "text/plain": [
              "array([ 4, 12, 24])"
            ]
          },
          "metadata": {}
        },
        {
          "output_type": "display_data",
          "data": {
            "text/plain": [
              "<Figure size 432x288 with 1 Axes>"
            ],
            "image/png": "[encoded data removed]"
          },
          "metadata": {
            "needs_background": "light"
          }
        }
      ]
    },
    {
      "cell_type": "markdown",
      "source": [
        "### Read three integer values from user, and check if these three values match with any row or any column of the given 2D array. "
      ],
      "metadata": {
        "id": "EQ3Vomymk9me"
      }
    },
    {
      "cell_type": "code",
      "source": [
        "import numpy as np\n",
        "a = np.array([[1, 4, 7], [2, 6, 12], [3, 8, 17]])\n",
        "display(a)\n",
        "display(type(a.any()))\n",
        "x= int(input(\"Give the value: \"))\n",
        "for x in range(x):\n",
        "  p= int(input(\"Enter your value: \"))\n",
        "np.where(a==p,0, a)"
      ],
      "metadata": {
        "colab": {
          "base_uri": "https://localhost:8080/",
          "height": 212
        },
        "id": "qhGubanNlHaE",
        "outputId": "b4a12f7e-5c53-48d0-f832-c9abd7f48b4c"
      },
      "execution_count": null,
      "outputs": [
        {
          "output_type": "display_data",
          "data": {
            "text/plain": [
              "array([[ 1,  4,  7],\n",
              "       [ 2,  6, 12],\n",
              "       [ 3,  8, 17]])"
            ]
          },
          "metadata": {}
        },
        {
          "output_type": "display_data",
          "data": {
            "text/plain": [
              "numpy.bool_"
            ]
          },
          "metadata": {}
        },
        {
          "name": "stdout",
          "output_type": "stream",
          "text": [
            "Give the value: 3\n",
            "Enter your value: 1\n",
            "Enter your value: 2\n",
            "Enter your value: 3\n"
          ]
        },
        {
          "output_type": "execute_result",
          "data": {
            "text/plain": [
              "array([[ 1,  4,  7],\n",
              "       [ 2,  6, 12],\n",
              "       [ 0,  8, 17]])"
            ]
          },
          "metadata": {},
          "execution_count": 5
        }
      ]
    }
  ]
}