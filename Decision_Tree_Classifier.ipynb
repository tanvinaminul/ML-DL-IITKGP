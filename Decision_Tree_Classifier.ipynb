{
  "nbformat": 4,
  "nbformat_minor": 0,
  "metadata": {
    "colab": {
      "provenance": [],
      "authorship_tag": "ABX9TyOPDakBrwowxyVvEuQaGbOA",
      "include_colab_link": true
    },
    "kernelspec": {
      "name": "python3",
      "display_name": "Python 3"
    },
    "language_info": {
      "name": "python"
    }
  },
  "cells": [
    {
      "cell_type": "markdown",
      "metadata": {
        "id": "view-in-github",
        "colab_type": "text"
      },
      "source": [
        "<a href=\"https://colab.research.google.com/github/tanvinaminul/ML-DL-IITKGP/blob/master/Decision_Tree_Classifier.ipynb\" target=\"_parent\"><img src=\"https://colab.research.google.com/assets/colab-badge.svg\" alt=\"Open In Colab\"/></a>"
      ]
    },
    {
      "cell_type": "markdown",
      "source": [
        "### Import Function & Data"
      ],
      "metadata": {
        "id": "1FaX0yorW7US"
      }
    },
    {
      "cell_type": "code",
      "execution_count": 18,
      "metadata": {
        "id": "12HbPus_VVcw"
      },
      "outputs": [],
      "source": [
        "from sklearn import tree\n",
        "from sklearn.model_selection import train_test_split\n",
        "X=[[165,19],[175,32],[136,35],[174,65],[141,28],[176,15],[131,32],[166,6],[128,32],[179,10],[136,34],[186,2],[126,25],[176,28],[112,38],[169,9],[171,36],[116,25],[196,25], [196,38], [126,40], [197,20], [150,25], [140,32],[136,35]]\n",
        "Y=['Man','Woman','Woman','Man','Woman','Man','Woman','Man','Woman','Man','Woman','Man','Woman','Woman','Woman','Man','Woman','Woman','Man', 'Woman', 'Woman', 'Man', 'Man', 'Woman', 'Woman']"
      ]
    },
    {
      "cell_type": "markdown",
      "source": [
        "### Define Train and Test Data"
      ],
      "metadata": {
        "id": "J0aQqYowXHKc"
      }
    },
    {
      "cell_type": "code",
      "source": [
        "data_feature_names = ['height','length of hair']\n",
        "X_train, X_test, y_train, y_test = train_test_split(X, Y, test_size = 0.3, random_state = 1)"
      ],
      "metadata": {
        "id": "OlIk7xn4V3Js"
      },
      "execution_count": 19,
      "outputs": []
    },
    {
      "cell_type": "markdown",
      "source": [
        "### Call Classifier Method"
      ],
      "metadata": {
        "id": "dhfB8JCwXQFu"
      }
    },
    {
      "cell_type": "code",
      "source": [
        "clf = tree.DecisionTreeClassifier()\n",
        "DTclf = clf.fit(X,Y)"
      ],
      "metadata": {
        "id": "AISAWO8OV_T1"
      },
      "execution_count": 20,
      "outputs": []
    },
    {
      "cell_type": "markdown",
      "source": [
        "### Test the Model"
      ],
      "metadata": {
        "id": "Wtvgc5LAXYuE"
      }
    },
    {
      "cell_type": "code",
      "source": [
        "prediction = DTclf.predict([[15,10]])\n",
        "print(prediction)"
      ],
      "metadata": {
        "colab": {
          "base_uri": "https://localhost:8080/"
        },
        "id": "PMMAt6ftWr-6",
        "outputId": "d1527982-e53e-4079-851c-04872e8f5667"
      },
      "execution_count": 21,
      "outputs": [
        {
          "output_type": "stream",
          "name": "stdout",
          "text": [
            "['Man']\n"
          ]
        }
      ]
    }
  ]
}