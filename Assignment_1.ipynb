{
  "nbformat": 4,
  "nbformat_minor": 0,
  "metadata": {
    "colab": {
      "provenance": [],
      "collapsed_sections": [],
      "authorship_tag": "ABX9TyOQEQ8Vfu8yYNkfAJPA6NAo",
      "include_colab_link": true
    },
    "kernelspec": {
      "name": "python3",
      "display_name": "Python 3"
    },
    "language_info": {
      "name": "python"
    }
  },
  "cells": [
    {
      "cell_type": "markdown",
      "metadata": {
        "id": "view-in-github",
        "colab_type": "text"
      },
      "source": [
        "<a href=\"https://colab.research.google.com/github/tanvinaminul/ML-DL-IITKGP/blob/master/Assignment_1.ipynb\" target=\"_parent\"><img src=\"https://colab.research.google.com/assets/colab-badge.svg\" alt=\"Open In Colab\"/></a>"
      ]
    },
    {
      "cell_type": "code",
      "execution_count": null,
      "metadata": {
        "id": "2taWXQtG43UT"
      },
      "outputs": [],
      "source": []
    },
    {
      "cell_type": "markdown",
      "source": [
        "### Assignment 1"
      ],
      "metadata": {
        "id": "26O0m4Ds44rD"
      }
    },
    {
      "cell_type": "code",
      "source": [
        "totalKM= int(input(\"Enter total Kilometers traveled:\"))\n",
        "#print(totalKM)\n",
        "if(totalKM<=12):\n",
        "  fare= int(100)\n",
        "  #print(\"your fare is Rs.\", fare)\n",
        "elif(totalKM>12 & totalKM<16):\n",
        "    extra= totalKM-12\n",
        "    fare= 100 + extra*8\n",
        "elif(totalKM>16 & totalKM<20):\n",
        "    extra= totalKM-16\n",
        "    fare= fare+ extra*6\n",
        "elif(totalKM>20):\n",
        "    extra= totalKM-20\n",
        "    fare= fare+ extra*5\n",
        "\n",
        "print(fare)"
      ],
      "metadata": {
        "colab": {
          "base_uri": "https://localhost:8080/"
        },
        "id": "V3RlWnWu5F-B",
        "outputId": "68d4df74-af04-4216-fc64-c47ef0123d7c"
      },
      "execution_count": null,
      "outputs": [
        {
          "output_type": "stream",
          "name": "stdout",
          "text": [
            "Enter total Kilometers traveled:34\n",
            "276\n"
          ]
        }
      ]
    },
    {
      "cell_type": "markdown",
      "source": [
        "### Assignment 2"
      ],
      "metadata": {
        "id": "blBFdFYCXkDr"
      }
    },
    {
      "cell_type": "code",
      "source": [
        "def gravity(m,r):\n",
        "  gc = 6.67408*10e-11\n",
        "  return gc*m/(r*r)\n",
        "mE = 5.972 * 10e24\n",
        "rE = 6361 * 10e3\n",
        "mM = 7.35 * 10e22\n",
        "rM = 1737 * 10e3\n",
        "print(\"Earth's g:\", gravity(mE,rE))\n",
        "print(\"Moon's g:\", gravity(mM,rM))"
      ],
      "metadata": {
        "id": "icFV8uGRXnDV",
        "outputId": "8c846574-f1f5-4a86-ab71-044ac533b5dd",
        "colab": {
          "base_uri": "https://localhost:8080/"
        }
      },
      "execution_count": null,
      "outputs": [
        {
          "output_type": "stream",
          "name": "stdout",
          "text": [
            "Earth's g: 9.850548553554308\n",
            "Moon's g: 1.6258448896962683\n"
          ]
        }
      ]
    },
    {
      "cell_type": "markdown",
      "source": [
        "### Assignment 2"
      ],
      "metadata": {
        "id": "OrOll7tNQyAt"
      }
    },
    {
      "cell_type": "code",
      "source": [
        "    def fibo(n):  \n",
        "       if n <= 1:  \n",
        "           return n  \n",
        "       else:  \n",
        "           return(fibo(n-1) + fibo(n-2))  \n",
        "    nterms = int(input(\"How many terms? \"))  \n",
        "    if nterms <= 0:  \n",
        "       print(\"Plese enter a positive integer\")  \n",
        "    else:  \n",
        "       print(\"Fibonacci sequence:\")  \n",
        "       for i in range(0,nterms):  \n",
        "           print(fibo(i), end=' ')  "
      ],
      "metadata": {
        "colab": {
          "base_uri": "https://localhost:8080/"
        },
        "id": "g7PK2r6EIb8f",
        "outputId": "fad3c143-ba94-4d35-f609-44a17c1d6078"
      },
      "execution_count": null,
      "outputs": [
        {
          "output_type": "stream",
          "name": "stdout",
          "text": [
            "How many terms? 8\n",
            "Fibonacci sequence:\n",
            "0 1 1 2 3 5 8 13 "
          ]
        }
      ]
    },
    {
      "cell_type": "code",
      "source": [
        "def isNiven(n):\n",
        "  k=n\n",
        "  sum=0\n",
        "  while k>0:\n",
        "    sum+=k%10\n",
        "    k=int(k/10)\n",
        "  return n%sum==0\n",
        "\n",
        "n=int(input())\n",
        "c=0\n",
        "a=10**(n-1)\n",
        "max=9**n\n",
        "while c<10 and a<=max:\n",
        "  if isNiven(a) :\n",
        "    print(a)\n",
        "    c+=1\n",
        "  a+=1"
      ],
      "metadata": {
        "colab": {
          "base_uri": "https://localhost:8080/"
        },
        "id": "Y8agcqAe1zzr",
        "outputId": "de2e2203-82b3-47d1-c0bc-d5947f8a7006"
      },
      "execution_count": null,
      "outputs": [
        {
          "output_type": "stream",
          "name": "stdout",
          "text": [
            "3\n",
            "100\n",
            "102\n",
            "108\n",
            "110\n",
            "111\n",
            "112\n",
            "114\n",
            "117\n",
            "120\n",
            "126\n"
          ]
        }
      ]
    }
  ]
}